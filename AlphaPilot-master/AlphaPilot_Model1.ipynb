{
 "cells": [
  {
   "cell_type": "markdown",
   "metadata": {},
   "source": [
    "<h1> AlphaPilot Model 1 </h1>\n",
    "\n",
    "* Convolutional Layer 1\n",
    "* ReLu Layer 1\n",
    "* Max Pool Layer 1 \n",
    "* Convolutional Layer 2\n",
    "* ReLU Layer 2\n",
    "* Max Pool Layer 2\n",
    "* Linear Regression Model (108 inputs and 8 outputs) "
   ]
  },
  {
   "cell_type": "code",
   "execution_count": 1,
   "metadata": {},
   "outputs": [
    {
     "name": "stderr",
     "output_type": "stream",
     "text": [
      "/anaconda2/envs/learningML/lib/python3.5/importlib/_bootstrap.py:222: RuntimeWarning: compiletime version 3.6 of module 'tensorflow.python.framework.fast_tensor_util' does not match runtime version 3.5\n",
      "  return f(*args, **kwds)\n"
     ]
    }
   ],
   "source": [
    "import tensorflow as tf\n",
    "import numpy as np"
   ]
  },
  {
   "cell_type": "markdown",
   "metadata": {},
   "source": [
    "Start an interactive session UwU"
   ]
  },
  {
   "cell_type": "code",
   "execution_count": 2,
   "metadata": {},
   "outputs": [],
   "source": [
    "sess = tf.InteractiveSession()"
   ]
  },
  {
   "cell_type": "markdown",
   "metadata": {},
   "source": [
    "<h3> Variable Placeholder Initialization UwU</h3>\n",
    "\n",
    "We're gonna initialize placeholders for X and Y feature sets and answer sets "
   ]
  },
  {
   "cell_type": "code",
   "execution_count": 46,
   "metadata": {},
   "outputs": [
    {
     "data": {
      "text/plain": [
       "<tf.Tensor 'Reshape_25:0' shape=(8, 1) dtype=float32>"
      ]
     },
     "execution_count": 46,
     "metadata": {},
     "output_type": "execute_result"
    }
   ],
   "source": [
    "# Important metrics and schtuff \n",
    "height = 864\n",
    "width = 1294\n",
    "flat = height * width\n",
    "y_hotkey = 8\n",
    "\n",
    "#First placeholder just import X and Y from the numpy array\n",
    "x = tf.placeholder(tf.float32, shape=[1, flat])\n",
    "y = tf.placeholder(tf.float32, shape = [1, y_hotkey])\n",
    "\n",
    "# Convert X into a proper tensor to do cool stuff with (same for y )\n",
    "X_image = tf.reshape(X, shape=[1,height,width,1])\n",
    "Y_hotkey = tf.reshape(Y, shape=[8,1])\n",
    "\n",
    "Y_hotkey"
   ]
  },
  {
   "cell_type": "markdown",
   "metadata": {},
   "source": [
    "<h2> Convolutional Layer 1 OwO </h2>\n",
    "\n",
    "* Apply first convolutional kernel (dimensions stay the same)\n",
    "* Apply ReLU function to kernelized output (dimensions stay the same)\n",
    "* Apply MaxPooling to ReLUd output (dimensions change!) "
   ]
  },
  {
   "cell_type": "code",
   "execution_count": 30,
   "metadata": {},
   "outputs": [
    {
     "data": {
      "text/plain": [
       "<tf.Tensor 'MaxPool_8:0' shape=(1, 108, 144, 1) dtype=float32>"
      ]
     },
     "execution_count": 30,
     "metadata": {},
     "output_type": "execute_result"
    }
   ],
   "source": [
    "#First convolutional kernel \n",
    "W_conv1 = tf.Variable(tf.truncated_normal([5,5,1,1],stddev = 0.1))\n",
    "b_conv1 = tf.Variable(tf.constant(0.1))\n",
    "\n",
    "convolve1 = tf.nn.conv2d(X_image, W_conv1, strides=[1,1,1,1],  padding='SAME') + b_conv1\n",
    "\n",
    "\n",
    "#Relu! \n",
    "rImages1 = tf.nn.relu(convolve1)\n",
    "\n",
    "#Apply max pooling \n",
    "conv1 = tf.nn.max_pool(rImages1, ksize=[1, 8, 9, 1], strides=[1, 8, 9, 1], padding='SAME') #max_pool_8x9\n",
    "conv1"
   ]
  },
  {
   "cell_type": "markdown",
   "metadata": {},
   "source": [
    "<h2> Convolutional Layer 2 ｡^‿^｡</h2>\n",
    "\n",
    "* Apply second convolutional kernel (dimensions stay the SAME!)\n",
    "* Apply second relu (dimensions stay da same)\n",
    "* Apply second maxPooling (dimensions CHANGE!!)"
   ]
  },
  {
   "cell_type": "code",
   "execution_count": 31,
   "metadata": {},
   "outputs": [
    {
     "data": {
      "text/plain": [
       "<tf.Tensor 'MaxPool_9:0' shape=(1, 9, 12, 1) dtype=float32>"
      ]
     },
     "execution_count": 31,
     "metadata": {},
     "output_type": "execute_result"
    }
   ],
   "source": [
    "#Second convolutional kernel \n",
    "W_conv2 = tf.Variable(tf.truncated_normal([5,5,1,1], stddev=0.1))\n",
    "b_conv2 = tf.Variable(tf.constant(0.1))\n",
    "\n",
    "convolve2 = tf.nn.conv2d(conv1,W_conv2, strides=[1,1,1,1], padding='SAME') + b_conv2\n",
    "\n",
    "\n",
    "# Relu! \n",
    "rImages2 = tf.nn.relu(convolve2)\n",
    "\n",
    "\n",
    "#Apply max pooling\n",
    "conv2 = tf.nn.max_pool(rImages2, ksize=[1,12,12,1], strides=[1, 12, 12, 1], padding='SAME')\n",
    "conv2"
   ]
  },
  {
   "cell_type": "markdown",
   "metadata": {},
   "source": [
    "<h2> Linear Regression Time !! </h2> \n",
    "\n",
    "Notes: This model is probably going to work **horribly** since image based prediction does not really have a linear correlation! But it's cool since it's a good start "
   ]
  },
  {
   "cell_type": "code",
   "execution_count": 34,
   "metadata": {},
   "outputs": [
    {
     "data": {
      "text/plain": [
       "<tf.Tensor 'Reshape_21:0' shape=(108, 1) dtype=float32>"
      ]
     },
     "execution_count": 34,
     "metadata": {},
     "output_type": "execute_result"
    }
   ],
   "source": [
    "x_layer = tf.reshape(conv2, [1,9*12])\n",
    "x_layer = tf.reshape(conv2, [-1,1])\n",
    "x_layer"
   ]
  },
  {
   "cell_type": "markdown",
   "metadata": {},
   "source": [
    "<h3> Making theta and y_ </h3>\n",
    "\n",
    "Ok, we know that y has to be an 8 vector output (for each coordinate on the square gate thing)\n",
    "\n",
    "So the theta matrix needs to be 8 * 108 "
   ]
  },
  {
   "cell_type": "code",
   "execution_count": 43,
   "metadata": {},
   "outputs": [
    {
     "data": {
      "text/plain": [
       "<tf.Tensor 'add_19:0' shape=(8, 1) dtype=float32>"
      ]
     },
     "execution_count": 43,
     "metadata": {},
     "output_type": "execute_result"
    }
   ],
   "source": [
    "theta = tf.Variable(tf.truncated_normal([8, 108], stddev=0.1))\n",
    "b = tf.Variable(tf.constant(0.1, shape=[8,1])) #8 biases\n",
    "\n",
    "y_ = tf.matmul(theta, x_layer) + b\n",
    "y_"
   ]
  },
  {
   "cell_type": "markdown",
   "metadata": {},
   "source": [
    "<h3> Making Optimizers, Loss Functions, and importing actual data </h3>"
   ]
  },
  {
   "cell_type": "code",
   "execution_count": 55,
   "metadata": {},
   "outputs": [],
   "source": [
    "#Loss function\n",
    "loss = tf.reduce_mean(tf.square(y_ - Y_hotkey))\n",
    "\n",
    "#Optimizer \n",
    "optimizer = tf.train.GradientDescentOptimizer(0.05)\n",
    "\n",
    "#Trainer\n",
    "trainer = optimizer.minimize(loss)\n"
   ]
  },
  {
   "cell_type": "markdown",
   "metadata": {},
   "source": [
    "<h3> Train this bad boi </h3>"
   ]
  },
  {
   "cell_type": "code",
   "execution_count": 56,
   "metadata": {},
   "outputs": [],
   "source": [
    "sess.run(tf.global_variables_initializer())"
   ]
  },
  {
   "cell_type": "code",
   "execution_count": 61,
   "metadata": {},
   "outputs": [
    {
     "ename": "ValueError",
     "evalue": "Cannot feed value of shape () for Tensor 'Placeholder_12:0', which has shape '(?, 1118016)'",
     "output_type": "error",
     "traceback": [
      "\u001b[0;31m---------------------------------------------------------------------------\u001b[0m",
      "\u001b[0;31mValueError\u001b[0m                                Traceback (most recent call last)",
      "\u001b[0;32m<ipython-input-61-8a8d85857ab1>\u001b[0m in \u001b[0;36m<module>\u001b[0;34m()\u001b[0m\n\u001b[1;32m      1\u001b[0m \u001b[0;32mfor\u001b[0m \u001b[0mi\u001b[0m \u001b[0;32min\u001b[0m \u001b[0mrange\u001b[0m\u001b[0;34m(\u001b[0m\u001b[0;36m5000\u001b[0m\u001b[0;34m)\u001b[0m\u001b[0;34m:\u001b[0m\u001b[0;34m\u001b[0m\u001b[0m\n\u001b[1;32m      2\u001b[0m     \u001b[0mbatch\u001b[0m \u001b[0;34m=\u001b[0m \u001b[0;34m[\u001b[0m\u001b[0;36m1\u001b[0m\u001b[0;34m]\u001b[0m\u001b[0;34m\u001b[0m\u001b[0m\n\u001b[0;32m----> 3\u001b[0;31m     \u001b[0mstep\u001b[0m \u001b[0;34m=\u001b[0m \u001b[0msess\u001b[0m\u001b[0;34m.\u001b[0m\u001b[0mrun\u001b[0m\u001b[0;34m(\u001b[0m\u001b[0mtrainer\u001b[0m\u001b[0;34m,\u001b[0m \u001b[0mfeed_dict\u001b[0m\u001b[0;34m=\u001b[0m\u001b[0;34m{\u001b[0m\u001b[0mX\u001b[0m\u001b[0;34m:\u001b[0m\u001b[0mbatch\u001b[0m\u001b[0;34m[\u001b[0m\u001b[0;36m0\u001b[0m\u001b[0;34m]\u001b[0m\u001b[0;34m,\u001b[0m\u001b[0mY\u001b[0m\u001b[0;34m:\u001b[0m \u001b[0mbatch\u001b[0m\u001b[0;34m[\u001b[0m\u001b[0;36m0\u001b[0m\u001b[0;34m]\u001b[0m\u001b[0;34m}\u001b[0m\u001b[0;34m)\u001b[0m\u001b[0;34m\u001b[0m\u001b[0m\n\u001b[0m",
      "\u001b[0;32m/anaconda2/envs/learningML/lib/python3.5/site-packages/tensorflow/python/client/session.py\u001b[0m in \u001b[0;36mrun\u001b[0;34m(self, fetches, feed_dict, options, run_metadata)\u001b[0m\n\u001b[1;32m    875\u001b[0m     \u001b[0;32mtry\u001b[0m\u001b[0;34m:\u001b[0m\u001b[0;34m\u001b[0m\u001b[0m\n\u001b[1;32m    876\u001b[0m       result = self._run(None, fetches, feed_dict, options_ptr,\n\u001b[0;32m--> 877\u001b[0;31m                          run_metadata_ptr)\n\u001b[0m\u001b[1;32m    878\u001b[0m       \u001b[0;32mif\u001b[0m \u001b[0mrun_metadata\u001b[0m\u001b[0;34m:\u001b[0m\u001b[0;34m\u001b[0m\u001b[0m\n\u001b[1;32m    879\u001b[0m         \u001b[0mproto_data\u001b[0m \u001b[0;34m=\u001b[0m \u001b[0mtf_session\u001b[0m\u001b[0;34m.\u001b[0m\u001b[0mTF_GetBuffer\u001b[0m\u001b[0;34m(\u001b[0m\u001b[0mrun_metadata_ptr\u001b[0m\u001b[0;34m)\u001b[0m\u001b[0;34m\u001b[0m\u001b[0m\n",
      "\u001b[0;32m/anaconda2/envs/learningML/lib/python3.5/site-packages/tensorflow/python/client/session.py\u001b[0m in \u001b[0;36m_run\u001b[0;34m(self, handle, fetches, feed_dict, options, run_metadata)\u001b[0m\n\u001b[1;32m   1074\u001b[0m                              \u001b[0;34m'which has shape %r'\u001b[0m \u001b[0;34m%\u001b[0m\u001b[0;34m\u001b[0m\u001b[0m\n\u001b[1;32m   1075\u001b[0m                              (np_val.shape, subfeed_t.name,\n\u001b[0;32m-> 1076\u001b[0;31m                               str(subfeed_t.get_shape())))\n\u001b[0m\u001b[1;32m   1077\u001b[0m           \u001b[0;32mif\u001b[0m \u001b[0;32mnot\u001b[0m \u001b[0mself\u001b[0m\u001b[0;34m.\u001b[0m\u001b[0mgraph\u001b[0m\u001b[0;34m.\u001b[0m\u001b[0mis_feedable\u001b[0m\u001b[0;34m(\u001b[0m\u001b[0msubfeed_t\u001b[0m\u001b[0;34m)\u001b[0m\u001b[0;34m:\u001b[0m\u001b[0;34m\u001b[0m\u001b[0m\n\u001b[1;32m   1078\u001b[0m             \u001b[0;32mraise\u001b[0m \u001b[0mValueError\u001b[0m\u001b[0;34m(\u001b[0m\u001b[0;34m'Tensor %s may not be fed.'\u001b[0m \u001b[0;34m%\u001b[0m \u001b[0msubfeed_t\u001b[0m\u001b[0;34m)\u001b[0m\u001b[0;34m\u001b[0m\u001b[0m\n",
      "\u001b[0;31mValueError\u001b[0m: Cannot feed value of shape () for Tensor 'Placeholder_12:0', which has shape '(?, 1118016)'"
     ]
    }
   ],
   "source": [
    "for i in range(5000):\n",
    "    batch = [1] \n",
    "    step = sess.run(trainer, feed_dict={X:batch[0],Y: batch[0]})"
   ]
  },
  {
   "cell_type": "code",
   "execution_count": null,
   "metadata": {},
   "outputs": [],
   "source": []
  }
 ],
 "metadata": {
  "kernelspec": {
   "display_name": "Python 3",
   "language": "python",
   "name": "python3"
  },
  "language_info": {
   "codemirror_mode": {
    "name": "ipython",
    "version": 3
   },
   "file_extension": ".py",
   "mimetype": "text/x-python",
   "name": "python",
   "nbconvert_exporter": "python",
   "pygments_lexer": "ipython3",
   "version": "3.5.6"
  }
 },
 "nbformat": 4,
 "nbformat_minor": 2
}
